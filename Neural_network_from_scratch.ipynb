{
 "cells": [
  {
   "attachments": {
    "image.png": {
     "image/png": "[encoded data removed]"
    }
   },
   "cell_type": "markdown",
   "id": "c306cd92",
   "metadata": {},
   "source": [
    "##### Task\n",
    "\n",
    "3 neurons - i/p      \n",
    "1 neuron  - o/p          \n",
    "w/o using pre-defined module              \n",
    "\n",
    "1 hidden layer - any no. of neurons\n",
    "\n",
    "i/p = [1 0 1 0,             \n",
    "       1 0 1 1,               \n",
    "       0 1 0 1]           \n",
    "       \n",
    "o/p = [1                     \n",
    "       1           \n",
    "       0]             \n",
    "\n",
    "![image.png](attachment:image.png)\n",
    "\n"
   ]
  },
  {
   "cell_type": "markdown",
   "id": "f951bf07",
   "metadata": {},
   "source": [
    "My doubts??\n",
    "but what is neural network??           \n",
    "is it a data structure??      \n",
    "is it a variable??                    \n",
    "how does it stores the values??          \n",
    "how it does computations??           \n",
    "how do we add connections to NN??            \n",
    "how do we link one layer??            \n",
    "\n"
   ]
  },
  {
   "cell_type": "code",
   "execution_count": null,
   "id": "1184b9a2",
   "metadata": {},
   "outputs": [],
   "source": [
    "X1 = [1,0,1,0]\n",
    "X2 = [1,0,1,1]\n",
    "X3 = [0,1,0,1]\n",
    "y  = [1,1,0]\n",
    "wt_h = [0,0,1,1,0,1]\n",
    "wt_o = [1,0]\n",
    "bias = 1\n",
    "bias2 = 1\n",
    "\n",
    "op1 = X1*wt_h[0] + X2*wt_h[2] + X3*wt_h[4] \n",
    "op2 = X1*wt_h[1] + X2*wt_h[3] + X3*wt_h[5]\n",
    "\n",
    "op3 = op1*wt_o[0] + op2*wt_o[1]"
   ]
  },
  {
   "cell_type": "code",
   "execution_count": null,
   "id": "4c7511da",
   "metadata": {},
   "outputs": [],
   "source": [
    "op3"
   ]
  },
  {
   "cell_type": "code",
   "execution_count": null,
   "id": "9bd6e242",
   "metadata": {},
   "outputs": [],
   "source": [
    "X1 = [1,0,1,0]\n",
    "X2 = [1,0,1,1]\n",
    "X3 = [0,1,0,1]\n",
    "y  = [1,1,0]\n",
    "\n",
    "wt_h = [0,0,1,1,0,1] # 1-4, 1-5, 2-4, 2-5, 3-4, 3-5\n",
    "\n",
    "\n",
    "wt_o = [1,0]\n",
    "bias = 1\n",
    "bias2 = 1\n",
    "\n",
    "op1 = []\n",
    "op2 = []\n",
    "op3 = []\n",
    "for _ in range(len(X1)):\n",
    "    op1 = X1[_]*wt_h[_] + X2[_]*wt_h[]"
   ]
  },
  {
   "cell_type": "code",
   "execution_count": null,
   "id": "996a21e7",
   "metadata": {},
   "outputs": [],
   "source": [
    "import numpy as np\n",
    "\n",
    "X1 = np.array([[1,0,1,0]])\n",
    "X2 = np.array([[1,0,1,1]])\n",
    "X3 = np.array([[0,1,0,1]])\n",
    "y  = [1,1,0]\n",
    "\n",
    "# wt = [1,0,   0,1,   1,1,    1,0]\n",
    "wt14 = np.array([[1]])\n",
    "wt15 = np.array([[0]])\n",
    "\n",
    "wt24 = np.array([[0]])\n",
    "wt25 = np.array([[1]])\n",
    "\n",
    "wt34 = np.array([[1]])\n",
    "wt35 = np.array([[1]])\n",
    "\n",
    "wt46 = np.array([[1]])\n",
    "wt56 = np.array([[0]])\n",
    "\n",
    "\n",
    "bias1 = 1\n",
    "bias2 = 1\n",
    "\n",
    "op1 = np.sum(np.dot(X1.T,wt14), axis = -1) + np.sum(np.dot(X2.T,wt24), axis = -1) + np.sum(np.dot(X3.T,wt34), axis = -1) \n",
    "op2 = np.sum(np.dot(X1.T,wt15), axis = -1) + np.sum(np.dot(X2.T,wt25), axis = -1) + np.sum(np.dot(X3.T,wt35), axis = -1)\n",
    "\n",
    "op1 = np.array([[op1]])\n",
    "op2 = np.array([[op2]])\n",
    "\n",
    "op3 = np.sum(np.dot(op1.T,wt46), axis = -1) + np.sum(np.dot(op2.T,wt56), axis = -1) "
   ]
  },
  {
   "cell_type": "code",
   "execution_count": null,
   "id": "87192b92",
   "metadata": {},
   "outputs": [],
   "source": []
  },
  {
   "cell_type": "code",
   "execution_count": null,
   "id": "635c6efb",
   "metadata": {},
   "outputs": [],
   "source": []
  },
  {
   "cell_type": "code",
   "execution_count": null,
   "id": "4c4a18c0",
   "metadata": {},
   "outputs": [],
   "source": []
  },
  {
   "cell_type": "code",
   "execution_count": null,
   "id": "07896096",
   "metadata": {},
   "outputs": [],
   "source": []
  },
  {
   "cell_type": "code",
   "execution_count": null,
   "id": "72185c80",
   "metadata": {},
   "outputs": [],
   "source": []
  },
  {
   "cell_type": "code",
   "execution_count": null,
   "id": "3aba222d",
   "metadata": {},
   "outputs": [],
   "source": []
  },
  {
   "cell_type": "code",
   "execution_count": null,
   "id": "1b7dbe19",
   "metadata": {},
   "outputs": [],
   "source": [
    "import numpy as np\n",
    "\n",
    "X = np.array([[1, 0, 1, 0],\n",
    "              [1, 0, 1, 1],\n",
    "              [0, 1, 0, 1]])\n",
    "\n",
    "wt1 = np.array([[-1,0,1],\n",
    "              [0,1,0]])\n",
    "\n",
    "wt2 = np.array([[1],\n",
    "                [-1]])\n",
    "\n",
    "bias1 = 1\n",
    "bias2 = 1\n",
    "\n",
    "op1 = np.dot(X.T,wt1.T) + bias1\n",
    "op2 = np.dot(op1, wt2) + bias2\n",
    "\n",
    "np.sum(op2)"
   ]
  },
  {
   "cell_type": "code",
   "execution_count": null,
   "id": "d0600f39",
   "metadata": {},
   "outputs": [],
   "source": []
  },
  {
   "cell_type": "code",
   "execution_count": null,
   "id": "abd82327",
   "metadata": {},
   "outputs": [],
   "source": []
  },
  {
   "cell_type": "code",
   "execution_count": null,
   "id": "3b5bf10a",
   "metadata": {},
   "outputs": [],
   "source": []
  },
  {
   "cell_type": "code",
   "execution_count": null,
   "id": "b76ae6f1",
   "metadata": {},
   "outputs": [],
   "source": []
  },
  {
   "cell_type": "code",
   "execution_count": null,
   "id": "ae0c78e6",
   "metadata": {},
   "outputs": [],
   "source": []
  },
  {
   "cell_type": "code",
   "execution_count": null,
   "id": "6e4167a9",
   "metadata": {},
   "outputs": [],
   "source": []
  },
  {
   "cell_type": "code",
   "execution_count": null,
   "id": "9af3959c",
   "metadata": {},
   "outputs": [],
   "source": []
  },
  {
   "cell_type": "code",
   "execution_count": null,
   "id": "090a6210",
   "metadata": {},
   "outputs": [],
   "source": [
    "import numpy as np\n",
    "\n",
    "X = np.array([[1, 0, 1, 0],\n",
    "              [1, 0, 1, 1],\n",
    "              [0, 1, 0, 1]])\n",
    "y  = [1,1,0]\n",
    "\n",
    "wt = np.array([[0,0,1,0,1,0],\n",
    "               [1,0,0,0,0,0],\n",
    "               [1,1,1,0,0,0],\n",
    "               [0,0,1,1,0,1]])\n",
    "\n",
    "op1 = np.dot(X,wt)"
   ]
  },
  {
   "cell_type": "code",
   "execution_count": null,
   "id": "f0b6f841",
   "metadata": {},
   "outputs": [],
   "source": [
    "op1.shape"
   ]
  },
  {
   "cell_type": "code",
   "execution_count": null,
   "id": "a3a8a809",
   "metadata": {},
   "outputs": [],
   "source": []
  },
  {
   "cell_type": "code",
   "execution_count": null,
   "id": "cfc89da8",
   "metadata": {},
   "outputs": [],
   "source": []
  },
  {
   "cell_type": "code",
   "execution_count": null,
   "id": "444b556b",
   "metadata": {},
   "outputs": [],
   "source": []
  },
  {
   "cell_type": "code",
   "execution_count": null,
   "id": "6efddb1e",
   "metadata": {},
   "outputs": [],
   "source": []
  },
  {
   "cell_type": "code",
   "execution_count": null,
   "id": "2c226020",
   "metadata": {},
   "outputs": [],
   "source": []
  },
  {
   "cell_type": "code",
   "execution_count": null,
   "id": "bd9d621e",
   "metadata": {},
   "outputs": [],
   "source": []
  },
  {
   "cell_type": "code",
   "execution_count": null,
   "id": "d6c110c6",
   "metadata": {},
   "outputs": [],
   "source": []
  },
  {
   "cell_type": "code",
   "execution_count": null,
   "id": "66db8166",
   "metadata": {},
   "outputs": [],
   "source": []
  },
  {
   "cell_type": "code",
   "execution_count": 21,
   "id": "fbf0f478",
   "metadata": {},
   "outputs": [
    {
     "name": "stdout",
     "output_type": "stream",
     "text": [
      "[ 0 -1  0]\n"
     ]
    }
   ],
   "source": [
    "# Q.10\n",
    "import numpy as np\n",
    "\n",
    "X = np.array([[1, 0, 1, 0],\n",
    "              [1, 0, 1, 1],\n",
    "              [0, 1, 0, 1]])\n",
    "y  = [1,1,0]\n",
    "\n",
    "wt4 = np.array([[0,0,1],\n",
    "                [1,0,0],\n",
    "                [1,-1,-1],\n",
    "                [0,0,-1]])\n",
    "\n",
    "wt5 = np.array([[0,1,0],\n",
    "                [0,0,0],\n",
    "                [0,0,0],\n",
    "                [-1,0,-1]])\n",
    "\n",
    "wt6 = np.array([[1,-1,0,1],\n",
    "                [0,1,-1,0]])\n",
    "\n",
    "op4 = np.dot(X,wt4)\n",
    "op5 = np.dot(X,wt5)\n",
    "op4 = np.sum(op4, axis = -1)\n",
    "op5 = np.sum(op5, axis = -1)\n",
    "\n",
    "X_new = np.array([op4,op5])\n",
    "\n",
    "op6 = np.dot(X_new.T, wt6)\n",
    "op6 = np.sum(op6, axis = -1)\n",
    "print(op6)"
   ]
  },
  {
   "cell_type": "code",
   "execution_count": 20,
   "id": "2abc1e68",
   "metadata": {},
   "outputs": [
    {
     "data": {
      "text/plain": [
       "array([ 0, -1,  0])"
      ]
     },
     "execution_count": 20,
     "metadata": {},
     "output_type": "execute_result"
    }
   ],
   "source": [
    "op6"
   ]
  },
  {
   "cell_type": "code",
   "execution_count": null,
   "id": "4bcbf70f",
   "metadata": {},
   "outputs": [],
   "source": []
  },
  {
   "cell_type": "code",
   "execution_count": null,
   "id": "3756e2b9",
   "metadata": {},
   "outputs": [],
   "source": []
  },
  {
   "cell_type": "code",
   "execution_count": null,
   "id": "703cd93a",
   "metadata": {},
   "outputs": [],
   "source": []
  }
 ],
 "metadata": {
  "kernelspec": {
   "display_name": "Python 3 (ipykernel)",
   "language": "python",
   "name": "python3"
  },
  "language_info": {
   "codemirror_mode": {
    "name": "ipython",
    "version": 3
   },
   "file_extension": ".py",
   "mimetype": "text/x-python",
   "name": "python",
   "nbconvert_exporter": "python",
   "pygments_lexer": "ipython3",
   "version": "3.9.7"
  }
 },
 "nbformat": 4,
 "nbformat_minor": 5
}
